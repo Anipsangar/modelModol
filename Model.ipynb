{
  "cells": [
    {
      "cell_type": "code",
      "source": [
        "#Import first lib\n",
        "import yfinance as yf\n",
        "import pandas as pd"
      ],
      "metadata": {
        "id": "tr3pGEC3tadn"
      },
      "execution_count": null,
      "outputs": []
    },
    {
      "cell_type": "code",
      "execution_count": null,
      "metadata": {
        "collapsed": true,
        "id": "Kw0gbZBQHJp5"
      },
      "outputs": [],
      "source": [
        "#Define Ticker and Date Range\n",
        "%matplotlib inline\n",
        "\n",
        "ticker = 'AMD'\n",
        "start_date = '2015-01-01'\n",
        "end_date = '2023-12-31'"
      ]
    },
    {
      "cell_type": "code",
      "execution_count": null,
      "metadata": {
        "id": "snadkDUqwSai",
        "colab": {
          "base_uri": "https://localhost:8080/",
          "height": 255
        },
        "outputId": "d9767903-23af-443f-91f4-282670613c23"
      },
      "outputs": [
        {
          "output_type": "stream",
          "name": "stderr",
          "text": [
            "\r[*********************100%%**********************]  1 of 1 completed\n"
          ]
        },
        {
          "output_type": "execute_result",
          "data": {
            "text/plain": [
              "            Open  High   Low  Close  Adj Close    Volume\n",
              "Date                                                    \n",
              "2015-01-02  2.67  2.67  2.67   2.67       2.67         0\n",
              "2015-01-05  2.67  2.70  2.64   2.66       2.66   8878200\n",
              "2015-01-06  2.65  2.66  2.55   2.63       2.63  13912500\n",
              "2015-01-07  2.63  2.65  2.54   2.58       2.58  12377600\n",
              "2015-01-08  2.59  2.65  2.56   2.61       2.61  11136600"
            ],
            "text/html": [
              "\n",
              "  <div id=\"df-58aa13e2-ecdf-4d22-884f-4598b64c092c\" class=\"colab-df-container\">\n",
              "    <div>\n",
              "<style scoped>\n",
              "    .dataframe tbody tr th:only-of-type {\n",
              "        vertical-align: middle;\n",
              "    }\n",
              "\n",
              "    .dataframe tbody tr th {\n",
              "        vertical-align: top;\n",
              "    }\n",
              "\n",
              "    .dataframe thead th {\n",
              "        text-align: right;\n",
              "    }\n",
              "</style>\n",
              "<table border=\"1\" class=\"dataframe\">\n",
              "  <thead>\n",
              "    <tr style=\"text-align: right;\">\n",
              "      <th></th>\n",
              "      <th>Open</th>\n",
              "      <th>High</th>\n",
              "      <th>Low</th>\n",
              "      <th>Close</th>\n",
              "      <th>Adj Close</th>\n",
              "      <th>Volume</th>\n",
              "    </tr>\n",
              "    <tr>\n",
              "      <th>Date</th>\n",
              "      <th></th>\n",
              "      <th></th>\n",
              "      <th></th>\n",
              "      <th></th>\n",
              "      <th></th>\n",
              "      <th></th>\n",
              "    </tr>\n",
              "  </thead>\n",
              "  <tbody>\n",
              "    <tr>\n",
              "      <th>2015-01-02</th>\n",
              "      <td>2.67</td>\n",
              "      <td>2.67</td>\n",
              "      <td>2.67</td>\n",
              "      <td>2.67</td>\n",
              "      <td>2.67</td>\n",
              "      <td>0</td>\n",
              "    </tr>\n",
              "    <tr>\n",
              "      <th>2015-01-05</th>\n",
              "      <td>2.67</td>\n",
              "      <td>2.70</td>\n",
              "      <td>2.64</td>\n",
              "      <td>2.66</td>\n",
              "      <td>2.66</td>\n",
              "      <td>8878200</td>\n",
              "    </tr>\n",
              "    <tr>\n",
              "      <th>2015-01-06</th>\n",
              "      <td>2.65</td>\n",
              "      <td>2.66</td>\n",
              "      <td>2.55</td>\n",
              "      <td>2.63</td>\n",
              "      <td>2.63</td>\n",
              "      <td>13912500</td>\n",
              "    </tr>\n",
              "    <tr>\n",
              "      <th>2015-01-07</th>\n",
              "      <td>2.63</td>\n",
              "      <td>2.65</td>\n",
              "      <td>2.54</td>\n",
              "      <td>2.58</td>\n",
              "      <td>2.58</td>\n",
              "      <td>12377600</td>\n",
              "    </tr>\n",
              "    <tr>\n",
              "      <th>2015-01-08</th>\n",
              "      <td>2.59</td>\n",
              "      <td>2.65</td>\n",
              "      <td>2.56</td>\n",
              "      <td>2.61</td>\n",
              "      <td>2.61</td>\n",
              "      <td>11136600</td>\n",
              "    </tr>\n",
              "  </tbody>\n",
              "</table>\n",
              "</div>\n",
              "    <div class=\"colab-df-buttons\">\n",
              "\n",
              "  <div class=\"colab-df-container\">\n",
              "    <button class=\"colab-df-convert\" onclick=\"convertToInteractive('df-58aa13e2-ecdf-4d22-884f-4598b64c092c')\"\n",
              "            title=\"Convert this dataframe to an interactive table.\"\n",
              "            style=\"display:none;\">\n",
              "\n",
              "  <svg xmlns=\"http://www.w3.org/2000/svg\" height=\"24px\" viewBox=\"0 -960 960 960\">\n",
              "    <path d=\"M120-120v-720h720v720H120Zm60-500h600v-160H180v160Zm220 220h160v-160H400v160Zm0 220h160v-160H400v160ZM180-400h160v-160H180v160Zm440 0h160v-160H620v160ZM180-180h160v-160H180v160Zm440 0h160v-160H620v160Z\"/>\n",
              "  </svg>\n",
              "    </button>\n",
              "\n",
              "  <style>\n",
              "    .colab-df-container {\n",
              "      display:flex;\n",
              "      gap: 12px;\n",
              "    }\n",
              "\n",
              "    .colab-df-convert {\n",
              "      background-color: #E8F0FE;\n",
              "      border: none;\n",
              "      border-radius: 50%;\n",
              "      cursor: pointer;\n",
              "      display: none;\n",
              "      fill: #1967D2;\n",
              "      height: 32px;\n",
              "      padding: 0 0 0 0;\n",
              "      width: 32px;\n",
              "    }\n",
              "\n",
              "    .colab-df-convert:hover {\n",
              "      background-color: #E2EBFA;\n",
              "      box-shadow: 0px 1px 2px rgba(60, 64, 67, 0.3), 0px 1px 3px 1px rgba(60, 64, 67, 0.15);\n",
              "      fill: #174EA6;\n",
              "    }\n",
              "\n",
              "    .colab-df-buttons div {\n",
              "      margin-bottom: 4px;\n",
              "    }\n",
              "\n",
              "    [theme=dark] .colab-df-convert {\n",
              "      background-color: #3B4455;\n",
              "      fill: #D2E3FC;\n",
              "    }\n",
              "\n",
              "    [theme=dark] .colab-df-convert:hover {\n",
              "      background-color: #434B5C;\n",
              "      box-shadow: 0px 1px 3px 1px rgba(0, 0, 0, 0.15);\n",
              "      filter: drop-shadow(0px 1px 2px rgba(0, 0, 0, 0.3));\n",
              "      fill: #FFFFFF;\n",
              "    }\n",
              "  </style>\n",
              "\n",
              "    <script>\n",
              "      const buttonEl =\n",
              "        document.querySelector('#df-58aa13e2-ecdf-4d22-884f-4598b64c092c button.colab-df-convert');\n",
              "      buttonEl.style.display =\n",
              "        google.colab.kernel.accessAllowed ? 'block' : 'none';\n",
              "\n",
              "      async function convertToInteractive(key) {\n",
              "        const element = document.querySelector('#df-58aa13e2-ecdf-4d22-884f-4598b64c092c');\n",
              "        const dataTable =\n",
              "          await google.colab.kernel.invokeFunction('convertToInteractive',\n",
              "                                                    [key], {});\n",
              "        if (!dataTable) return;\n",
              "\n",
              "        const docLinkHtml = 'Like what you see? Visit the ' +\n",
              "          '<a target=\"_blank\" href=https://colab.research.google.com/notebooks/data_table.ipynb>data table notebook</a>'\n",
              "          + ' to learn more about interactive tables.';\n",
              "        element.innerHTML = '';\n",
              "        dataTable['output_type'] = 'display_data';\n",
              "        await google.colab.output.renderOutput(dataTable, element);\n",
              "        const docLink = document.createElement('div');\n",
              "        docLink.innerHTML = docLinkHtml;\n",
              "        element.appendChild(docLink);\n",
              "      }\n",
              "    </script>\n",
              "  </div>\n",
              "\n",
              "\n",
              "<div id=\"df-0838210d-b40a-4ed0-9ebb-a20f243ca39f\">\n",
              "  <button class=\"colab-df-quickchart\" onclick=\"quickchart('df-0838210d-b40a-4ed0-9ebb-a20f243ca39f')\"\n",
              "            title=\"Suggest charts\"\n",
              "            style=\"display:none;\">\n",
              "\n",
              "<svg xmlns=\"http://www.w3.org/2000/svg\" height=\"24px\"viewBox=\"0 0 24 24\"\n",
              "     width=\"24px\">\n",
              "    <g>\n",
              "        <path d=\"M19 3H5c-1.1 0-2 .9-2 2v14c0 1.1.9 2 2 2h14c1.1 0 2-.9 2-2V5c0-1.1-.9-2-2-2zM9 17H7v-7h2v7zm4 0h-2V7h2v10zm4 0h-2v-4h2v4z\"/>\n",
              "    </g>\n",
              "</svg>\n",
              "  </button>\n",
              "\n",
              "<style>\n",
              "  .colab-df-quickchart {\n",
              "      --bg-color: #E8F0FE;\n",
              "      --fill-color: #1967D2;\n",
              "      --hover-bg-color: #E2EBFA;\n",
              "      --hover-fill-color: #174EA6;\n",
              "      --disabled-fill-color: #AAA;\n",
              "      --disabled-bg-color: #DDD;\n",
              "  }\n",
              "\n",
              "  [theme=dark] .colab-df-quickchart {\n",
              "      --bg-color: #3B4455;\n",
              "      --fill-color: #D2E3FC;\n",
              "      --hover-bg-color: #434B5C;\n",
              "      --hover-fill-color: #FFFFFF;\n",
              "      --disabled-bg-color: #3B4455;\n",
              "      --disabled-fill-color: #666;\n",
              "  }\n",
              "\n",
              "  .colab-df-quickchart {\n",
              "    background-color: var(--bg-color);\n",
              "    border: none;\n",
              "    border-radius: 50%;\n",
              "    cursor: pointer;\n",
              "    display: none;\n",
              "    fill: var(--fill-color);\n",
              "    height: 32px;\n",
              "    padding: 0;\n",
              "    width: 32px;\n",
              "  }\n",
              "\n",
              "  .colab-df-quickchart:hover {\n",
              "    background-color: var(--hover-bg-color);\n",
              "    box-shadow: 0 1px 2px rgba(60, 64, 67, 0.3), 0 1px 3px 1px rgba(60, 64, 67, 0.15);\n",
              "    fill: var(--button-hover-fill-color);\n",
              "  }\n",
              "\n",
              "  .colab-df-quickchart-complete:disabled,\n",
              "  .colab-df-quickchart-complete:disabled:hover {\n",
              "    background-color: var(--disabled-bg-color);\n",
              "    fill: var(--disabled-fill-color);\n",
              "    box-shadow: none;\n",
              "  }\n",
              "\n",
              "  .colab-df-spinner {\n",
              "    border: 2px solid var(--fill-color);\n",
              "    border-color: transparent;\n",
              "    border-bottom-color: var(--fill-color);\n",
              "    animation:\n",
              "      spin 1s steps(1) infinite;\n",
              "  }\n",
              "\n",
              "  @keyframes spin {\n",
              "    0% {\n",
              "      border-color: transparent;\n",
              "      border-bottom-color: var(--fill-color);\n",
              "      border-left-color: var(--fill-color);\n",
              "    }\n",
              "    20% {\n",
              "      border-color: transparent;\n",
              "      border-left-color: var(--fill-color);\n",
              "      border-top-color: var(--fill-color);\n",
              "    }\n",
              "    30% {\n",
              "      border-color: transparent;\n",
              "      border-left-color: var(--fill-color);\n",
              "      border-top-color: var(--fill-color);\n",
              "      border-right-color: var(--fill-color);\n",
              "    }\n",
              "    40% {\n",
              "      border-color: transparent;\n",
              "      border-right-color: var(--fill-color);\n",
              "      border-top-color: var(--fill-color);\n",
              "    }\n",
              "    60% {\n",
              "      border-color: transparent;\n",
              "      border-right-color: var(--fill-color);\n",
              "    }\n",
              "    80% {\n",
              "      border-color: transparent;\n",
              "      border-right-color: var(--fill-color);\n",
              "      border-bottom-color: var(--fill-color);\n",
              "    }\n",
              "    90% {\n",
              "      border-color: transparent;\n",
              "      border-bottom-color: var(--fill-color);\n",
              "    }\n",
              "  }\n",
              "</style>\n",
              "\n",
              "  <script>\n",
              "    async function quickchart(key) {\n",
              "      const quickchartButtonEl =\n",
              "        document.querySelector('#' + key + ' button');\n",
              "      quickchartButtonEl.disabled = true;  // To prevent multiple clicks.\n",
              "      quickchartButtonEl.classList.add('colab-df-spinner');\n",
              "      try {\n",
              "        const charts = await google.colab.kernel.invokeFunction(\n",
              "            'suggestCharts', [key], {});\n",
              "      } catch (error) {\n",
              "        console.error('Error during call to suggestCharts:', error);\n",
              "      }\n",
              "      quickchartButtonEl.classList.remove('colab-df-spinner');\n",
              "      quickchartButtonEl.classList.add('colab-df-quickchart-complete');\n",
              "    }\n",
              "    (() => {\n",
              "      let quickchartButtonEl =\n",
              "        document.querySelector('#df-0838210d-b40a-4ed0-9ebb-a20f243ca39f button');\n",
              "      quickchartButtonEl.style.display =\n",
              "        google.colab.kernel.accessAllowed ? 'block' : 'none';\n",
              "    })();\n",
              "  </script>\n",
              "</div>\n",
              "    </div>\n",
              "  </div>\n"
            ],
            "application/vnd.google.colaboratory.intrinsic+json": {
              "type": "dataframe",
              "variable_name": "stock_data",
              "summary": "{\n  \"name\": \"stock_data\",\n  \"rows\": 2264,\n  \"fields\": [\n    {\n      \"column\": \"Date\",\n      \"properties\": {\n        \"dtype\": \"date\",\n        \"min\": \"2015-01-02 00:00:00\",\n        \"max\": \"2023-12-29 00:00:00\",\n        \"num_unique_values\": 2264,\n        \"samples\": [\n          \"2021-12-21 00:00:00\",\n          \"2020-02-05 00:00:00\",\n          \"2016-05-24 00:00:00\"\n        ],\n        \"semantic_type\": \"\",\n        \"description\": \"\"\n      }\n    },\n    {\n      \"column\": \"Open\",\n      \"properties\": {\n        \"dtype\": \"number\",\n        \"std\": 42.34060927038892,\n        \"min\": 1.6200000047683716,\n        \"max\": 163.27999877929688,\n        \"num_unique_values\": 1834,\n        \"samples\": [\n          19.440000534057617,\n          14.600000381469727,\n          54.790000915527344\n        ],\n        \"semantic_type\": \"\",\n        \"description\": \"\"\n      }\n    },\n    {\n      \"column\": \"High\",\n      \"properties\": {\n        \"dtype\": \"number\",\n        \"std\": 43.18781791969528,\n        \"min\": 1.690000057220459,\n        \"max\": 164.4600067138672,\n        \"num_unique_values\": 1806,\n        \"samples\": [\n          117.26000213623047,\n          2.0,\n          26.989999771118164\n        ],\n        \"semantic_type\": \"\",\n        \"description\": \"\"\n      }\n    },\n    {\n      \"column\": \"Low\",\n      \"properties\": {\n        \"dtype\": \"number\",\n        \"std\": 41.45470949187473,\n        \"min\": 1.6100000143051147,\n        \"max\": 156.10000610351562,\n        \"num_unique_values\": 1803,\n        \"samples\": [\n          35.58000183105469,\n          18.969999313354492,\n          70.6500015258789\n        ],\n        \"semantic_type\": \"\",\n        \"description\": \"\"\n      }\n    },\n    {\n      \"column\": \"Close\",\n      \"properties\": {\n        \"dtype\": \"number\",\n        \"std\": 42.33560046466886,\n        \"min\": 1.6200000047683716,\n        \"max\": 161.91000366210938,\n        \"num_unique_values\": 1831,\n        \"samples\": [\n          8.460000038146973,\n          106.16999816894531,\n          61.470001220703125\n        ],\n        \"semantic_type\": \"\",\n        \"description\": \"\"\n      }\n    },\n    {\n      \"column\": \"Adj Close\",\n      \"properties\": {\n        \"dtype\": \"number\",\n        \"std\": 42.33560046466886,\n        \"min\": 1.6200000047683716,\n        \"max\": 161.91000366210938,\n        \"num_unique_values\": 1831,\n        \"samples\": [\n          8.460000038146973,\n          106.16999816894531,\n          61.470001220703125\n        ],\n        \"semantic_type\": \"\",\n        \"description\": \"\"\n      }\n    },\n    {\n      \"column\": \"Volume\",\n      \"properties\": {\n        \"dtype\": \"number\",\n        \"std\": 37447416,\n        \"min\": 0,\n        \"max\": 325058400,\n        \"num_unique_values\": 2257,\n        \"samples\": [\n          37420200,\n          30456700,\n          48600200\n        ],\n        \"semantic_type\": \"\",\n        \"description\": \"\"\n      }\n    }\n  ]\n}"
            }
          },
          "metadata": {},
          "execution_count": 3
        }
      ],
      "source": [
        "#Fetch data from Yfinance\n",
        "stock_data = yf.download(ticker, start=start_date, end=end_date)\n",
        "stock_data.head()"
      ]
    },
    {
      "cell_type": "code",
      "execution_count": null,
      "metadata": {
        "id": "EseP5WN13d8V",
        "colab": {
          "base_uri": "https://localhost:8080/",
          "height": 908
        },
        "outputId": "250a1e9d-ee2d-420c-a3b4-2bda11004f66"
      },
      "outputs": [
        {
          "output_type": "execute_result",
          "data": {
            "text/plain": [
              "<function matplotlib.pyplot.show(close=None, block=None)>"
            ],
            "text/html": [
              "<div style=\"max-width:800px; border: 1px solid var(--colab-border-color);\"><style>\n",
              "      pre.function-repr-contents {\n",
              "        overflow-x: auto;\n",
              "        padding: 8px 12px;\n",
              "        max-height: 500px;\n",
              "      }\n",
              "\n",
              "      pre.function-repr-contents.function-repr-contents-collapsed {\n",
              "        cursor: pointer;\n",
              "        max-height: 100px;\n",
              "      }\n",
              "    </style>\n",
              "    <pre style=\"white-space: initial; background:\n",
              "         var(--colab-secondary-surface-color); padding: 8px 12px;\n",
              "         border-bottom: 1px solid var(--colab-border-color);\"><b>matplotlib.pyplot.show</b><br/>def show(*args, **kwargs)</pre><pre class=\"function-repr-contents function-repr-contents-collapsed\" style=\"\"><a class=\"filepath\" style=\"display:none\" href=\"#\">/usr/local/lib/python3.10/dist-packages/matplotlib/pyplot.py</a>Display all open figures.\n",
              "\n",
              "Parameters\n",
              "----------\n",
              "block : bool, optional\n",
              "    Whether to wait for all figures to be closed before returning.\n",
              "\n",
              "    If `True` block and run the GUI main loop until all figure windows\n",
              "    are closed.\n",
              "\n",
              "    If `False` ensure that all figure windows are displayed and return\n",
              "    immediately.  In this case, you are responsible for ensuring\n",
              "    that the event loop is running to have responsive figures.\n",
              "\n",
              "    Defaults to True in non-interactive mode and to False in interactive\n",
              "    mode (see `.pyplot.isinteractive`).\n",
              "\n",
              "See Also\n",
              "--------\n",
              "ion : Enable interactive mode, which shows / updates the figure after\n",
              "      every plotting command, so that calling ``show()`` is not necessary.\n",
              "ioff : Disable interactive mode.\n",
              "savefig : Save the figure to an image file instead of showing it on screen.\n",
              "\n",
              "Notes\n",
              "-----\n",
              "**Saving figures to file and showing a window at the same time**\n",
              "\n",
              "If you want an image file as well as a user interface window, use\n",
              "`.pyplot.savefig` before `.pyplot.show`. At the end of (a blocking)\n",
              "``show()`` the figure is closed and thus unregistered from pyplot. Calling\n",
              "`.pyplot.savefig` afterwards would save a new and thus empty figure. This\n",
              "limitation of command order does not apply if the show is non-blocking or\n",
              "if you keep a reference to the figure and use `.Figure.savefig`.\n",
              "\n",
              "**Auto-show in jupyter notebooks**\n",
              "\n",
              "The jupyter backends (activated via ``%matplotlib inline``,\n",
              "``%matplotlib notebook``, or ``%matplotlib widget``), call ``show()`` at\n",
              "the end of every cell by default. Thus, you usually don&#x27;t have to call it\n",
              "explicitly there.</pre>\n",
              "      <script>\n",
              "      if (google.colab.kernel.accessAllowed && google.colab.files && google.colab.files.view) {\n",
              "        for (const element of document.querySelectorAll('.filepath')) {\n",
              "          element.style.display = 'block'\n",
              "          element.onclick = (event) => {\n",
              "            event.preventDefault();\n",
              "            event.stopPropagation();\n",
              "            google.colab.files.view(element.textContent, 401);\n",
              "          };\n",
              "        }\n",
              "      }\n",
              "      for (const element of document.querySelectorAll('.function-repr-contents')) {\n",
              "        element.onclick = (event) => {\n",
              "          event.preventDefault();\n",
              "          event.stopPropagation();\n",
              "          element.classList.toggle('function-repr-contents-collapsed');\n",
              "        };\n",
              "      }\n",
              "      </script>\n",
              "      </div>"
            ]
          },
          "metadata": {},
          "execution_count": 4
        },
        {
          "output_type": "display_data",
          "data": {
            "text/plain": [
              "<Figure size 1500x1000 with 1 Axes>"
            ],
            "image/png": "[encoded data removed]"
          },
          "metadata": {}
        }
      ],
      "source": [
        "import matplotlib.dates as mdates\n",
        "import matplotlib.pyplot as plt\n",
        "import datetime as dt\n",
        "\n",
        "plt.figure(figsize=(15,10))\n",
        "plt.gca().xaxis.set_major_formatter(mdates.DateFormatter('%Y-%m-%d'))\n",
        "plt.gca().xaxis.set_major_locator(mdates.DayLocator(interval=60))\n",
        "\n",
        "x_dates = stock_data.index\n",
        "\n",
        "plt.plot(x_dates, stock_data['High'], label = 'High')\n",
        "plt.plot(x_dates, stock_data['Low'], label = 'Low')\n",
        "plt.xlabel('Time Scale')\n",
        "plt.ylabel('Scaled USD')\n",
        "plt.legend\n",
        "plt.gcf().autofmt_xdate()\n",
        "plt.show"
      ]
    },
    {
      "cell_type": "code",
      "execution_count": null,
      "metadata": {
        "id": "H8KjEMyyEyek"
      },
      "outputs": [],
      "source": [
        "import matplotlib.pyplot as plt\n",
        "import pandas as pd\n",
        "import numpy as np\n",
        "from tensorflow.keras.models import Sequential\n",
        "from tensorflow.keras.layers import Dense\n",
        "from tensorflow.keras.layers import LSTM\n",
        "from tensorflow.keras.layers import Dropout\n",
        "from tensorflow.keras.layers import *\n",
        "from tensorflow.keras.callbacks import EarlyStopping\n",
        "\n",
        "from sklearn.preprocessing import MinMaxScaler, StandardScaler\n",
        "from sklearn.metrics import mean_squared_error\n",
        "from sklearn.metrics import mean_absolute_percentage_error\n",
        "from sklearn.model_selection import train_test_split\n",
        "from sklearn.model_selection import TimeSeriesSplit\n",
        "from sklearn.metrics import mean_squared_error\n",
        "from tensorflow.keras.models import load_model"
      ]
    },
    {
      "cell_type": "code",
      "execution_count": null,
      "metadata": {
        "id": "jU8RUODjGi5H"
      },
      "outputs": [],
      "source": [
        "#Prepare Data for LSTM\n",
        "target_y = stock_data['Close']\n",
        "X_feat = stock_data.iloc[:,0:3]"
      ]
    },
    {
      "cell_type": "code",
      "execution_count": null,
      "metadata": {
        "id": "soxR5lpcGxJz"
      },
      "outputs": [],
      "source": [
        "#Rescaling Value\n",
        "sc = StandardScaler()\n",
        "X_ft = sc.fit_transform(X_feat.values)\n",
        "X_ft = pd.DataFrame(columns = X_feat.columns,\n",
        "                    data = X_ft,\n",
        "                    index = X_feat.index)"
      ]
    },
    {
      "cell_type": "code",
      "execution_count": null,
      "metadata": {
        "id": "newOkB8CHsVI"
      },
      "outputs": [],
      "source": [
        "def lstm_split(data, n_steps):\n",
        "  X, y = [], []\n",
        "  for i in range(len(data)-n_steps):\n",
        "    X.append(data[i:i + n_steps, :])\n",
        "    y.append(data[i + n_steps, -1])\n",
        "\n",
        "  return np.array(X), np.array(y)"
      ]
    },
    {
      "cell_type": "code",
      "source": [
        "n_steps = 10\n",
        "X1, y1 = lstm_split(X_ft.values, n_steps)"
      ],
      "metadata": {
        "id": "9TWoqPOYKwf9"
      },
      "execution_count": null,
      "outputs": []
    },
    {
      "cell_type": "code",
      "execution_count": null,
      "metadata": {
        "id": "wsieG5v9IdhR",
        "colab": {
          "base_uri": "https://localhost:8080/"
        },
        "outputId": "d754f4ea-eac8-4400-cf00-b61e4024489f"
      },
      "outputs": [
        {
          "output_type": "stream",
          "name": "stdout",
          "text": [
            "(1811, 10, 3) (443, 10, 3) (1811,) (443,)\n"
          ]
        }
      ],
      "source": [
        "# Split the data into training and testing sets\n",
        "train_size = int(len(X_ft) * 0.8)\n",
        "test_size = len(X_ft) - train_size\n",
        "X_train, X_test = X1[:train_size], X1[train_size:]\n",
        "y_train, y_test = y1[:train_size], y1[train_size:]\n",
        "\n",
        "# Ensure the shapes of X_train, X_test, y_train, and y_test are correct\n",
        "print(X_train.shape, X_test.shape, y_train.shape, y_test.shape)\n"
      ]
    },
    {
      "cell_type": "code",
      "execution_count": null,
      "metadata": {
        "id": "l-SFARwUkkYg",
        "colab": {
          "base_uri": "https://localhost:8080/"
        },
        "outputId": "bd095d34-16e4-4a54-ff16-8ab6ed718b70"
      },
      "outputs": [
        {
          "output_type": "stream",
          "name": "stdout",
          "text": [
            "Model: \"sequential\"\n",
            "_________________________________________________________________\n",
            " Layer (type)                Output Shape              Param #   \n",
            "=================================================================\n",
            " lstm (LSTM)                 (None, 32)                4608      \n",
            "                                                                 \n",
            " dense (Dense)               (None, 1)                 33        \n",
            "                                                                 \n",
            "=================================================================\n",
            "Total params: 4641 (18.13 KB)\n",
            "Trainable params: 4641 (18.13 KB)\n",
            "Non-trainable params: 0 (0.00 Byte)\n",
            "_________________________________________________________________\n"
          ]
        }
      ],
      "source": [
        "#Define LSTM Model\n",
        "lstm = Sequential()\n",
        "lstm.add(LSTM(32, input_shape=(n_steps, X_train.shape[2]),\n",
        "              activation='relu', return_sequences=False))\n",
        "lstm.add(Dense(1))\n",
        "lstm.compile(loss='mean_squared_error', optimizer='adam')\n",
        "lstm.summary()\n"
      ]
    },
    {
      "cell_type": "code",
      "execution_count": null,
      "metadata": {
        "id": "qQ3EVWjqjkN4",
        "colab": {
          "base_uri": "https://localhost:8080/"
        },
        "outputId": "1a25dd3d-53c2-456b-9144-6c128fcd5757"
      },
      "outputs": [
        {
          "output_type": "stream",
          "name": "stdout",
          "text": [
            "Epoch 1/100\n",
            "114/114 - 2s - loss: 0.3330 - 2s/epoch - 18ms/step\n",
            "Epoch 2/100\n",
            "114/114 - 1s - loss: 0.1045 - 724ms/epoch - 6ms/step\n",
            "Epoch 3/100\n",
            "114/114 - 1s - loss: 0.0131 - 849ms/epoch - 7ms/step\n",
            "Epoch 4/100\n",
            "114/114 - 1s - loss: 0.0243 - 1s/epoch - 11ms/step\n",
            "Epoch 5/100\n",
            "114/114 - 1s - loss: 0.0081 - 1s/epoch - 10ms/step\n",
            "Epoch 6/100\n",
            "114/114 - 1s - loss: 0.0107 - 894ms/epoch - 8ms/step\n",
            "Epoch 7/100\n",
            "114/114 - 1s - loss: 0.0051 - 810ms/epoch - 7ms/step\n",
            "Epoch 8/100\n",
            "114/114 - 1s - loss: 0.0052 - 779ms/epoch - 7ms/step\n",
            "Epoch 9/100\n",
            "114/114 - 1s - loss: 0.0046 - 873ms/epoch - 8ms/step\n",
            "Epoch 10/100\n",
            "114/114 - 1s - loss: 0.0046 - 921ms/epoch - 8ms/step\n",
            "Epoch 11/100\n",
            "114/114 - 1s - loss: 0.0049 - 859ms/epoch - 8ms/step\n",
            "Epoch 12/100\n",
            "114/114 - 1s - loss: 0.0041 - 762ms/epoch - 7ms/step\n",
            "Epoch 13/100\n",
            "114/114 - 1s - loss: 0.0033 - 1s/epoch - 9ms/step\n",
            "Epoch 14/100\n",
            "114/114 - 1s - loss: 0.0033 - 901ms/epoch - 8ms/step\n",
            "Epoch 15/100\n",
            "114/114 - 1s - loss: 0.0037 - 830ms/epoch - 7ms/step\n",
            "Epoch 16/100\n",
            "114/114 - 1s - loss: 0.0036 - 1s/epoch - 9ms/step\n",
            "Epoch 17/100\n",
            "114/114 - 1s - loss: 0.0037 - 1s/epoch - 10ms/step\n",
            "Epoch 18/100\n",
            "114/114 - 1s - loss: 0.0033 - 1s/epoch - 11ms/step\n",
            "Epoch 19/100\n",
            "114/114 - 1s - loss: 0.0031 - 1s/epoch - 11ms/step\n",
            "Epoch 20/100\n",
            "114/114 - 1s - loss: 0.0030 - 1s/epoch - 10ms/step\n",
            "Epoch 21/100\n",
            "114/114 - 1s - loss: 0.0030 - 892ms/epoch - 8ms/step\n",
            "Epoch 22/100\n",
            "114/114 - 1s - loss: 0.0029 - 934ms/epoch - 8ms/step\n",
            "Epoch 23/100\n",
            "114/114 - 1s - loss: 0.0029 - 780ms/epoch - 7ms/step\n",
            "Epoch 24/100\n",
            "114/114 - 1s - loss: 0.0029 - 924ms/epoch - 8ms/step\n",
            "Epoch 25/100\n",
            "114/114 - 1s - loss: 0.0028 - 968ms/epoch - 8ms/step\n",
            "Epoch 26/100\n",
            "114/114 - 1s - loss: 0.0028 - 989ms/epoch - 9ms/step\n",
            "Epoch 27/100\n",
            "114/114 - 1s - loss: 0.0028 - 599ms/epoch - 5ms/step\n",
            "Epoch 28/100\n",
            "114/114 - 0s - loss: 0.0028 - 491ms/epoch - 4ms/step\n",
            "Epoch 29/100\n",
            "114/114 - 0s - loss: 0.0027 - 450ms/epoch - 4ms/step\n",
            "Epoch 30/100\n",
            "114/114 - 0s - loss: 0.0027 - 453ms/epoch - 4ms/step\n",
            "Epoch 31/100\n",
            "114/114 - 0s - loss: 0.0027 - 465ms/epoch - 4ms/step\n",
            "Epoch 32/100\n",
            "114/114 - 0s - loss: 0.0027 - 480ms/epoch - 4ms/step\n",
            "Epoch 33/100\n",
            "114/114 - 0s - loss: 0.0027 - 478ms/epoch - 4ms/step\n",
            "Epoch 34/100\n",
            "114/114 - 0s - loss: 0.0027 - 486ms/epoch - 4ms/step\n",
            "Epoch 35/100\n",
            "114/114 - 0s - loss: 0.0026 - 484ms/epoch - 4ms/step\n",
            "Epoch 36/100\n",
            "114/114 - 1s - loss: 0.0026 - 582ms/epoch - 5ms/step\n",
            "Epoch 37/100\n",
            "114/114 - 1s - loss: 0.0026 - 714ms/epoch - 6ms/step\n",
            "Epoch 38/100\n",
            "114/114 - 1s - loss: 0.0026 - 691ms/epoch - 6ms/step\n",
            "Epoch 39/100\n",
            "114/114 - 1s - loss: 0.0032 - 724ms/epoch - 6ms/step\n",
            "Epoch 40/100\n",
            "114/114 - 1s - loss: 0.0033 - 680ms/epoch - 6ms/step\n",
            "Epoch 41/100\n",
            "114/114 - 1s - loss: 0.0035 - 715ms/epoch - 6ms/step\n",
            "Epoch 42/100\n",
            "114/114 - 0s - loss: 0.0026 - 494ms/epoch - 4ms/step\n",
            "Epoch 43/100\n",
            "114/114 - 0s - loss: 0.0030 - 459ms/epoch - 4ms/step\n",
            "Epoch 44/100\n",
            "114/114 - 0s - loss: 0.0028 - 447ms/epoch - 4ms/step\n",
            "Epoch 45/100\n",
            "114/114 - 0s - loss: 0.0027 - 484ms/epoch - 4ms/step\n",
            "Epoch 46/100\n",
            "114/114 - 0s - loss: 0.0025 - 448ms/epoch - 4ms/step\n",
            "Epoch 47/100\n",
            "114/114 - 0s - loss: 0.0030 - 483ms/epoch - 4ms/step\n",
            "Epoch 48/100\n",
            "114/114 - 0s - loss: 0.0031 - 449ms/epoch - 4ms/step\n",
            "Epoch 49/100\n",
            "114/114 - 0s - loss: 0.0024 - 497ms/epoch - 4ms/step\n",
            "Epoch 50/100\n",
            "114/114 - 0s - loss: 0.0028 - 450ms/epoch - 4ms/step\n",
            "Epoch 51/100\n",
            "114/114 - 0s - loss: 0.0025 - 484ms/epoch - 4ms/step\n",
            "Epoch 52/100\n",
            "114/114 - 0s - loss: 0.0025 - 446ms/epoch - 4ms/step\n",
            "Epoch 53/100\n",
            "114/114 - 0s - loss: 0.0027 - 468ms/epoch - 4ms/step\n",
            "Epoch 54/100\n",
            "114/114 - 0s - loss: 0.0023 - 473ms/epoch - 4ms/step\n",
            "Epoch 55/100\n",
            "114/114 - 0s - loss: 0.0024 - 470ms/epoch - 4ms/step\n",
            "Epoch 56/100\n",
            "114/114 - 0s - loss: 0.0024 - 478ms/epoch - 4ms/step\n",
            "Epoch 57/100\n",
            "114/114 - 0s - loss: 0.0027 - 472ms/epoch - 4ms/step\n",
            "Epoch 58/100\n",
            "114/114 - 0s - loss: 0.0024 - 490ms/epoch - 4ms/step\n",
            "Epoch 59/100\n",
            "114/114 - 0s - loss: 0.0031 - 482ms/epoch - 4ms/step\n",
            "Epoch 60/100\n",
            "114/114 - 0s - loss: 0.0025 - 481ms/epoch - 4ms/step\n",
            "Epoch 61/100\n",
            "114/114 - 0s - loss: 0.0023 - 470ms/epoch - 4ms/step\n",
            "Epoch 62/100\n",
            "114/114 - 0s - loss: 0.0028 - 488ms/epoch - 4ms/step\n",
            "Epoch 63/100\n",
            "114/114 - 1s - loss: 0.0021 - 663ms/epoch - 6ms/step\n",
            "Epoch 64/100\n",
            "114/114 - 1s - loss: 0.0023 - 701ms/epoch - 6ms/step\n",
            "Epoch 65/100\n",
            "114/114 - 1s - loss: 0.0023 - 721ms/epoch - 6ms/step\n",
            "Epoch 66/100\n",
            "114/114 - 1s - loss: 0.0036 - 710ms/epoch - 6ms/step\n",
            "Epoch 67/100\n",
            "114/114 - 1s - loss: 0.0035 - 702ms/epoch - 6ms/step\n",
            "Epoch 68/100\n",
            "114/114 - 1s - loss: 0.0028 - 719ms/epoch - 6ms/step\n",
            "Epoch 69/100\n",
            "114/114 - 0s - loss: 0.0029 - 465ms/epoch - 4ms/step\n",
            "Epoch 70/100\n",
            "114/114 - 0s - loss: 0.0022 - 469ms/epoch - 4ms/step\n",
            "Epoch 71/100\n",
            "114/114 - 0s - loss: 0.0020 - 460ms/epoch - 4ms/step\n",
            "Epoch 72/100\n",
            "114/114 - 0s - loss: 0.0022 - 475ms/epoch - 4ms/step\n",
            "Epoch 73/100\n",
            "114/114 - 0s - loss: 0.0022 - 455ms/epoch - 4ms/step\n",
            "Epoch 74/100\n",
            "114/114 - 0s - loss: 0.0021 - 473ms/epoch - 4ms/step\n",
            "Epoch 75/100\n",
            "114/114 - 0s - loss: 0.0022 - 471ms/epoch - 4ms/step\n",
            "Epoch 76/100\n",
            "114/114 - 0s - loss: 0.0019 - 464ms/epoch - 4ms/step\n",
            "Epoch 77/100\n",
            "114/114 - 0s - loss: 0.0024 - 473ms/epoch - 4ms/step\n",
            "Epoch 78/100\n",
            "114/114 - 0s - loss: 0.0021 - 470ms/epoch - 4ms/step\n",
            "Epoch 79/100\n",
            "114/114 - 0s - loss: 0.0020 - 478ms/epoch - 4ms/step\n",
            "Epoch 80/100\n",
            "114/114 - 0s - loss: 0.0021 - 471ms/epoch - 4ms/step\n",
            "Epoch 81/100\n",
            "114/114 - 1s - loss: 0.0027 - 510ms/epoch - 4ms/step\n",
            "Epoch 82/100\n",
            "114/114 - 0s - loss: 0.0025 - 486ms/epoch - 4ms/step\n",
            "Epoch 83/100\n",
            "114/114 - 0s - loss: 0.0026 - 477ms/epoch - 4ms/step\n",
            "Epoch 84/100\n",
            "114/114 - 0s - loss: 0.0025 - 470ms/epoch - 4ms/step\n",
            "Epoch 85/100\n",
            "114/114 - 1s - loss: 0.0025 - 501ms/epoch - 4ms/step\n",
            "Epoch 86/100\n",
            "114/114 - 0s - loss: 0.0029 - 478ms/epoch - 4ms/step\n",
            "Epoch 87/100\n",
            "114/114 - 0s - loss: 0.0019 - 471ms/epoch - 4ms/step\n",
            "Epoch 88/100\n",
            "114/114 - 0s - loss: 0.0020 - 475ms/epoch - 4ms/step\n",
            "Epoch 89/100\n",
            "114/114 - 1s - loss: 0.0022 - 503ms/epoch - 4ms/step\n",
            "Epoch 90/100\n",
            "114/114 - 1s - loss: 0.0021 - 715ms/epoch - 6ms/step\n",
            "Epoch 91/100\n",
            "114/114 - 1s - loss: 0.0020 - 711ms/epoch - 6ms/step\n",
            "Epoch 92/100\n",
            "114/114 - 1s - loss: 0.0020 - 684ms/epoch - 6ms/step\n",
            "Epoch 93/100\n",
            "114/114 - 1s - loss: 0.0022 - 716ms/epoch - 6ms/step\n",
            "Epoch 94/100\n",
            "114/114 - 1s - loss: 0.0019 - 680ms/epoch - 6ms/step\n",
            "Epoch 95/100\n",
            "114/114 - 1s - loss: 0.0020 - 618ms/epoch - 5ms/step\n",
            "Epoch 96/100\n",
            "114/114 - 0s - loss: 0.0021 - 469ms/epoch - 4ms/step\n",
            "Epoch 97/100\n",
            "114/114 - 0s - loss: 0.0020 - 449ms/epoch - 4ms/step\n",
            "Epoch 98/100\n",
            "114/114 - 0s - loss: 0.0019 - 485ms/epoch - 4ms/step\n",
            "Epoch 99/100\n",
            "114/114 - 0s - loss: 0.0024 - 458ms/epoch - 4ms/step\n",
            "Epoch 100/100\n",
            "114/114 - 0s - loss: 0.0029 - 500ms/epoch - 4ms/step\n"
          ]
        }
      ],
      "source": [
        "history=lstm.fit(X_train, y_train,\n",
        "                 epochs=100, batch_size=16,\n",
        "                 verbose=2, shuffle=False)"
      ]
    },
    {
      "cell_type": "code",
      "execution_count": null,
      "metadata": {
        "id": "p1C5S0t-mfYl",
        "colab": {
          "base_uri": "https://localhost:8080/"
        },
        "outputId": "bd7a7e44-ebaf-429b-b423-d9dc058610a2"
      },
      "outputs": [
        {
          "output_type": "stream",
          "name": "stdout",
          "text": [
            "14/14 [==============================] - 0s 2ms/step\n"
          ]
        }
      ],
      "source": [
        "y_pred = lstm.predict(X_test)"
      ]
    },
    {
      "cell_type": "code",
      "source": [
        "# Flatten y_test and y_pred\n",
        "y_test_flat = y_test\n",
        "y_pred_flat = y_pred.flatten()"
      ],
      "metadata": {
        "id": "WOkP2xG0OcoE"
      },
      "execution_count": null,
      "outputs": []
    },
    {
      "cell_type": "code",
      "execution_count": null,
      "metadata": {
        "id": "rZrBqa5Om2Vt",
        "colab": {
          "base_uri": "https://localhost:8080/"
        },
        "outputId": "616f5b53-cb9b-4186-b7b5-5d0f65675d27"
      },
      "outputs": [
        {
          "output_type": "stream",
          "name": "stdout",
          "text": [
            "RMSE: 0.15351954860793676\n",
            "MAPE: 0.18005168781146738\n"
          ]
        }
      ],
      "source": [
        "# Calculate metrics\n",
        "rmse = mean_squared_error(y_test_flat, y_pred_flat, squared=False)\n",
        "mape = mean_absolute_percentage_error(y_test_flat, y_pred_flat)\n",
        "\n",
        "print(\"RMSE:\", rmse)\n",
        "print(\"MAPE:\", mape)"
      ]
    },
    {
      "cell_type": "code",
      "source": [
        "#Save Model\n",
        "lstm.save('lstm_model.h5')"
      ],
      "metadata": {
        "colab": {
          "base_uri": "https://localhost:8080/"
        },
        "id": "8M6eocMK_6mN",
        "outputId": "3dc50f27-0513-437f-8fed-84ea74de97a9"
      },
      "execution_count": null,
      "outputs": [
        {
          "output_type": "stream",
          "name": "stderr",
          "text": [
            "/usr/local/lib/python3.10/dist-packages/keras/src/engine/training.py:3103: UserWarning: You are saving your model as an HDF5 file via `model.save()`. This file format is considered legacy. We recommend using instead the native Keras format, e.g. `model.save('my_model.keras')`.\n",
            "  saving_api.save_model(\n"
          ]
        }
      ]
    },
    {
      "cell_type": "code",
      "source": [
        "#Save model training history\n",
        "history_df = pd.DataFrame(history.history)\n",
        "history_df.to_csv('training_history.csv', index = False)"
      ],
      "metadata": {
        "id": "OUxaGJHnAEzi"
      },
      "execution_count": null,
      "outputs": []
    },
    {
      "cell_type": "code",
      "source": [
        "print(\"Model and training history saved succesfully.\")"
      ],
      "metadata": {
        "colab": {
          "base_uri": "https://localhost:8080/"
        },
        "id": "8_WqUyI8A9GQ",
        "outputId": "0f935261-b04f-445d-8720-f344e6c10c74"
      },
      "execution_count": null,
      "outputs": [
        {
          "output_type": "stream",
          "name": "stdout",
          "text": [
            "Model and training history saved succesfully.\n"
          ]
        }
      ]
    },
    {
      "cell_type": "code",
      "source": [
        "# Load the model\n",
        "loaded_model = load_model('lstm_model.h5')"
      ],
      "metadata": {
        "id": "_3NveniTDgom"
      },
      "execution_count": null,
      "outputs": []
    },
    {
      "cell_type": "code",
      "source": [
        "#Read history of training\n",
        "history_df = pd.read_csv('training_history.csv')\n",
        "print(history_df.head())"
      ],
      "metadata": {
        "colab": {
          "base_uri": "https://localhost:8080/"
        },
        "id": "_FTLUu8gEJ9-",
        "outputId": "2f7f2ccd-830e-4cc6-9c66-c7a18544c2f2"
      },
      "execution_count": null,
      "outputs": [
        {
          "output_type": "stream",
          "name": "stdout",
          "text": [
            "       loss\n",
            "0  0.333000\n",
            "1  0.104482\n",
            "2  0.013117\n",
            "3  0.024320\n",
            "4  0.008124\n"
          ]
        }
      ]
    }
  ],
  "metadata": {
    "colab": {
      "provenance": []
    },
    "kernelspec": {
      "display_name": "Python 3",
      "name": "python3"
    },
    "language_info": {
      "name": "python"
    }
  },
  "nbformat": 4,
  "nbformat_minor": 0
}